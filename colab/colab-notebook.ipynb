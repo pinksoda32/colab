{
  "cells": [
    {
      "cell_type": "code",
      "execution_count": null,
      "metadata": {
        "id": "kkUxHJ38Hjs8"
      },
      "outputs": [],
      "source": [
        "#### PICK ONE: This node for temporary install\n",
        "SWARMPATH = '/content/'"
      ]
    },
    {
      "cell_type": "code",
      "execution_count": null,
      "metadata": {
        "id": "ryuqLlivHjs9"
      },
      "outputs": [],
      "source": [
        "#### PICK ONE: *OR* this node for install in google drive\n",
        "from google.colab import drive\n",
        "drive.mount('/content/drive')\n",
        "SWARMPATH = '/content/drive/MyDrive'\n",
        "\n",
        "# Colab breaks venvs, and doesn't save anything valid to drive, so just screw it do a global install of pip reqs if we used a comfy backend in the drive\n",
        "!if [[ -f \"$SWARMPATH/SwarmUI/dlbackend/ComfyUI/requirements.txt\" ]]; then rm -rf $SWARMPATH/SwarmUI/dlbackend/ComfyUI/venv/; pip install -r $SWARMPATH/SwarmUI/dlbackend/ComfyUI/requirements.txt; fi"
      ]
    },
    {
      "cell_type": "code",
      "execution_count": null,
      "metadata": {
        "id": "Sg0HeYwkM48V"
      },
      "outputs": [],
      "source": [
        "# Install dotnet dependencies\n",
        "!wget https://dot.net/v1/dotnet-install.sh -O dotnet-install.sh\n",
        "!chmod +x dotnet-install.sh\n",
        "!./dotnet-install.sh --channel 8.0\n",
        "\n",
        "# Install Clouldflared\n",
        "!wget https://github.com/cloudflare/cloudflared/releases/download/2024.8.2/cloudflared-linux-amd64.deb\n",
        "!dpkg -i cloudflared-linux-amd64.deb\n",
        "\n",
        "# use the chosen path\n",
        "import os\n",
        "os.environ['SWARMPATH'] = SWARMPATH\n",
        "%cd $SWARMPATH\n",
        "\n",
        "# Colab breaks venv, so, tell swarm to not make a venv\n",
        "os.environ['SWARM_NO_VENV'] = 'true'\n",
        "\n",
        "# Download SwarmUI\n",
        "url = \"https://github.com/mcmonkeyprojects/SwarmUI\"\n",
        "!git clone $url"
      ]
    },
    {
      "cell_type": "code",
      "execution_count": null,
      "metadata": {
        "id": "K9Oer9TVObYA",
        "outputId": "32c30ada-1432-4b48-b0ba-78f841caec05",
        "colab": {
          "base_uri": "https://localhost:8080/"
        }
      },
      "outputs": [
        {
          "output_type": "stream",
          "name": "stdout",
          "text": [
            "/content/drive/MyDrive/SwarmUI\n",
            "HEAD is now at aef918df properly split cached vs uncached browser updates\n",
            "Already up to date.\n",
            "\n",
            "\n",
            "WARNING: You did a git pull without building. Will now build for you...\n",
            "\n",
            "Rebuilding...\n",
            "\u001b[?1h\u001b=\u001b[?1h\u001b=\u001b[?1h\u001b=\u001b[?1h\u001b=\u001b[?1h\u001b=\u001b[?1h\u001b=\u001b[?1h\u001b=\u001b[?1h\u001b=\u001b[?1h\u001b=\n",
            "Welcome to .NET 8.0!\n",
            "---------------------\n",
            "SDK Version: 8.0.415\n",
            "\n",
            "----------------\n",
            "Installed an ASP.NET Core HTTPS development certificate.\n",
            "To trust the certificate, view the instructions: https://aka.ms/dotnet-https-linux\n",
            "\n",
            "----------------\n",
            "Write your first app: https://aka.ms/dotnet-hello-world\n",
            "Find out what's new: https://aka.ms/dotnet-whats-new\n",
            "Explore documentation: https://aka.ms/dotnet-docs\n",
            "Report issues and find source on GitHub: https://github.com/dotnet/core\n",
            "Use 'dotnet --help' to see available commands or visit: https://aka.ms/dotnet-cli\n",
            "--------------------------------------------------------------------------------------\n",
            "  Determining projects to restore...\n",
            "  Restored /content/drive/MyDrive/SwarmUI/src/SwarmUI.csproj (in 5.84 sec).\n",
            "  SwarmUI -> /content/drive/MyDrive/SwarmUI/src/bin/live_release/SwarmUI.dll\n",
            "\u001b[m\u001b[32m\n",
            "Build succeeded.\n",
            "\u001b[m    0 Warning(s)\n",
            "\u001b[m    0 Error(s)\n",
            "\u001b[m\n",
            "Time Elapsed 00:00:30.63\n",
            "\u001b[?1h\u001b=\u001b[m\u001b[40m\u001b[m\u001b[37m\u001b[40m17:17:30.626 [\u001b[m\u001b[37m\u001b[40m\u001b[m\u001b[32m\u001b[40mInit\u001b[m\u001b[32m\u001b[40m\u001b[m\u001b[37m\u001b[40m] \u001b[m\u001b[37m\u001b[40m\u001b[m\u001b[37m\u001b[40m=== SwarmUI v0.9.7.1 Starting at 2025-10-30 17:17:30 ===\n",
            "\u001b[m\u001b[37m\u001b[40m\u001b[m\u001b[37m\u001b[40m\u001b[m\u001b[37m\u001b[40m\u001b[m\u001b[37m\u001b[40m17:17:30.761 [\u001b[m\u001b[37m\u001b[40m\u001b[m\u001b[32m\u001b[40mInit\u001b[m\u001b[32m\u001b[40m\u001b[m\u001b[37m\u001b[40m] \u001b[m\u001b[37m\u001b[40m\u001b[m\u001b[37m\u001b[40mPrepping extension: SwarmUI.Builtin_ScorersExtension.ScorersExtension...\n",
            "\u001b[m\u001b[37m\u001b[40m\u001b[m\u001b[37m\u001b[40m\u001b[m\u001b[37m\u001b[40m\u001b[m\u001b[37m\u001b[40m17:17:30.764 [\u001b[m\u001b[37m\u001b[40m\u001b[m\u001b[32m\u001b[40mInit\u001b[m\u001b[32m\u001b[40m\u001b[m\u001b[37m\u001b[40m] \u001b[m\u001b[37m\u001b[40m\u001b[m\u001b[37m\u001b[40mPrepping extension: SwarmUI.Builtin_ImageBatchToolExtension.ImageBatchToolExtension...\n",
            "\u001b[m\u001b[37m\u001b[40m\u001b[m\u001b[37m\u001b[40m\u001b[m\u001b[37m\u001b[40m\u001b[m\u001b[37m\u001b[40m17:17:30.765 [\u001b[m\u001b[37m\u001b[40m\u001b[m\u001b[32m\u001b[40mInit\u001b[m\u001b[32m\u001b[40m\u001b[m\u001b[37m\u001b[40m] \u001b[m\u001b[37m\u001b[40m\u001b[m\u001b[37m\u001b[40mPrepping extension: SwarmUI.Builtin_GridGeneratorExtension.GridGeneratorExtension...\n",
            "\u001b[m\u001b[37m\u001b[40m\u001b[m\u001b[37m\u001b[40m\u001b[m\u001b[37m\u001b[40m\u001b[m\u001b[37m\u001b[40m17:17:30.767 [\u001b[m\u001b[37m\u001b[40m\u001b[m\u001b[32m\u001b[40mInit\u001b[m\u001b[32m\u001b[40m\u001b[m\u001b[37m\u001b[40m] \u001b[m\u001b[37m\u001b[40m\u001b[m\u001b[37m\u001b[40mPrepping extension: SwarmUI.Builtin_DynamicThresholding.DynamicThresholdingExtension...\n",
            "\u001b[m\u001b[37m\u001b[40m\u001b[m\u001b[37m\u001b[40m\u001b[m\u001b[37m\u001b[40m\u001b[m\u001b[37m\u001b[40m17:17:30.768 [\u001b[m\u001b[37m\u001b[40m\u001b[m\u001b[32m\u001b[40mInit\u001b[m\u001b[32m\u001b[40m\u001b[m\u001b[37m\u001b[40m] \u001b[m\u001b[37m\u001b[40m\u001b[m\u001b[37m\u001b[40mPrepping extension: SwarmUI.Builtin_ComfyUIBackend.ComfyUIBackendExtension...\n",
            "\u001b[m\u001b[37m\u001b[40m\u001b[m\u001b[37m\u001b[40m\u001b[m\u001b[37m\u001b[40m\u001b[m\u001b[37m\u001b[40m17:17:30.771 [\u001b[m\u001b[37m\u001b[40m\u001b[m\u001b[32m\u001b[40mInit\u001b[m\u001b[32m\u001b[40m\u001b[m\u001b[37m\u001b[40m] \u001b[m\u001b[37m\u001b[40m\u001b[m\u001b[37m\u001b[40mPrepping extension: SwarmUI.Builtin_AutoWebUIExtension.AutoWebUIBackendExtension...\n",
            "\u001b[m\u001b[37m\u001b[40m\u001b[m\u001b[37m\u001b[40m\u001b[m\u001b[37m\u001b[40m\u001b[m\u001b[37m\u001b[40m17:17:30.957 [\u001b[m\u001b[37m\u001b[40m\u001b[m\u001b[32m\u001b[40mInit\u001b[m\u001b[32m\u001b[40m\u001b[m\u001b[37m\u001b[40m] \u001b[m\u001b[37m\u001b[40m\u001b[m\u001b[37m\u001b[40mParsing command line...\n",
            "\u001b[m\u001b[37m\u001b[40m\u001b[m\u001b[37m\u001b[40m\u001b[m\u001b[37m\u001b[40m\u001b[m\u001b[37m\u001b[40m17:17:30.958 [\u001b[m\u001b[37m\u001b[40m\u001b[m\u001b[32m\u001b[40mInit\u001b[m\u001b[32m\u001b[40m\u001b[m\u001b[37m\u001b[40m] \u001b[m\u001b[37m\u001b[40m\u001b[m\u001b[37m\u001b[40mLoading settings file...\n",
            "\u001b[m\u001b[37m\u001b[40m\u001b[m\u001b[37m\u001b[40m\u001b[m\u001b[37m\u001b[40m\u001b[m\u001b[37m\u001b[40m17:17:30.962 [\u001b[m\u001b[37m\u001b[40m\u001b[m\u001b[32m\u001b[40mInit\u001b[m\u001b[32m\u001b[40m\u001b[m\u001b[37m\u001b[40m] \u001b[m\u001b[37m\u001b[40m\u001b[m\u001b[37m\u001b[40mNo settings file found.\n",
            "\u001b[m\u001b[37m\u001b[40m\u001b[m\u001b[37m\u001b[40m\u001b[m\u001b[37m\u001b[40m\u001b[m\u001b[37m\u001b[40m17:17:30.962 [\u001b[m\u001b[37m\u001b[40m\u001b[m\u001b[32m\u001b[40mInit\u001b[m\u001b[32m\u001b[40m\u001b[m\u001b[37m\u001b[40m] \u001b[m\u001b[37m\u001b[40m\u001b[m\u001b[37m\u001b[40mRe-saving settings file...\n",
            "\u001b[m\u001b[37m\u001b[40m\u001b[m\u001b[37m\u001b[40m\u001b[m\u001b[37m\u001b[40m\u001b[m\u001b[37m\u001b[40m17:17:31.105 [\u001b[m\u001b[37m\u001b[40m\u001b[m\u001b[32m\u001b[40mInit\u001b[m\u001b[32m\u001b[40m\u001b[m\u001b[37m\u001b[40m] \u001b[m\u001b[37m\u001b[40m\u001b[m\u001b[37m\u001b[40mApplying command line settings...\n",
            "\u001b[m\u001b[37m\u001b[40m\u001b[m\u001b[37m\u001b[40m\u001b[m\u001b[37m\u001b[40m\u001b[m\u001b[37m\u001b[40m17:17:31.152 [\u001b[m\u001b[37m\u001b[40m\u001b[m\u001b[32m\u001b[40mInit\u001b[m\u001b[32m\u001b[40m\u001b[m\u001b[37m\u001b[40m] \u001b[m\u001b[37m\u001b[40m\u001b[m\u001b[37m\u001b[40mEnvVar 'SWARM_NO_VENV' set to 'true'\n",
            "\u001b[m\u001b[37m\u001b[40m\u001b[m\u001b[37m\u001b[40m\u001b[m\u001b[37m\u001b[40m\u001b[m\u001b[37m\u001b[40m17:17:31.152 [\u001b[m\u001b[37m\u001b[40m\u001b[m\u001b[32m\u001b[40mInit\u001b[m\u001b[32m\u001b[40m\u001b[m\u001b[37m\u001b[40m] \u001b[m\u001b[37m\u001b[40m\u001b[m\u001b[37m\u001b[40mSwarm base path is: /content/drive/MyDrive/SwarmUI\n",
            "\u001b[m\u001b[37m\u001b[40m\u001b[m\u001b[37m\u001b[40m\u001b[m\u001b[37m\u001b[40m\u001b[m\u001b[37m\u001b[40m17:17:31.152 [\u001b[m\u001b[37m\u001b[40m\u001b[m\u001b[32m\u001b[40mInit\u001b[m\u001b[32m\u001b[40m\u001b[m\u001b[37m\u001b[40m] \u001b[m\u001b[37m\u001b[40m\u001b[m\u001b[37m\u001b[40mRunning on OS: Ubuntu 22.04.4 LTS\n",
            "\u001b[m\u001b[37m\u001b[40m\u001b[m\u001b[37m\u001b[40m\u001b[m\u001b[37m\u001b[40m\u001b[m\u001b[37m\u001b[40m17:17:31.207 [\u001b[m\u001b[37m\u001b[40m\u001b[m\u001b[32m\u001b[40mInit\u001b[m\u001b[32m\u001b[40m\u001b[m\u001b[37m\u001b[40m] \u001b[m\u001b[37m\u001b[40m\u001b[m\u001b[37m\u001b[40mCPU Cores: 2 | RAM: 12.67 GiB total, 11.04 GiB available, unknown virtual/swap\n",
            "\u001b[m\u001b[37m\u001b[40m\u001b[m\u001b[37m\u001b[40m\u001b[m\u001b[37m\u001b[40m\u001b[m\u001b[37m\u001b[40m17:17:31.289 [\u001b[m\u001b[37m\u001b[40m\u001b[m\u001b[32m\u001b[40mInit\u001b[m\u001b[32m\u001b[40m\u001b[m\u001b[37m\u001b[40m] \u001b[m\u001b[37m\u001b[40m\u001b[m\u001b[37m\u001b[40mGPU 0: Tesla T4 | Temp 40C | Util 0% GPU, 0% Memory | VRAM 15.00 GiB total, 14.74 GiB free, 0 B used\n",
            "\u001b[m\u001b[37m\u001b[40m\u001b[m\u001b[37m\u001b[40m\u001b[m\u001b[37m\u001b[40m\u001b[m\u001b[37m\u001b[40m17:17:31.343 [\u001b[m\u001b[37m\u001b[40m\u001b[m\u001b[32m\u001b[40mInit\u001b[m\u001b[32m\u001b[40m\u001b[m\u001b[37m\u001b[40m] \u001b[m\u001b[37m\u001b[40m\u001b[m\u001b[37m\u001b[40mPrepping options...\n",
            "\u001b[m\u001b[37m\u001b[40m\u001b[m\u001b[37m\u001b[40m\u001b[m\u001b[37m\u001b[40m\u001b[m\u001b[37m\u001b[40m17:17:31.887 [\u001b[m\u001b[37m\u001b[40m\u001b[m\u001b[32m\u001b[40mInit\u001b[m\u001b[32m\u001b[40m\u001b[m\u001b[37m\u001b[40m] \u001b[m\u001b[37m\u001b[40m\u001b[m\u001b[37m\u001b[40mLoading models list...\n",
            "\u001b[m\u001b[37m\u001b[40m\u001b[m\u001b[37m\u001b[40m\u001b[m\u001b[37m\u001b[40m\u001b[m\u001b[37m\u001b[40m17:17:32.000 [\u001b[m\u001b[37m\u001b[40m\u001b[m\u001b[32m\u001b[40mInit\u001b[m\u001b[32m\u001b[40m\u001b[m\u001b[37m\u001b[40m] \u001b[m\u001b[37m\u001b[40m\u001b[m\u001b[37m\u001b[40mLoading backends...\n",
            "\u001b[m\u001b[37m\u001b[40m\u001b[m\u001b[37m\u001b[40m\u001b[m\u001b[37m\u001b[40m\u001b[m\u001b[37m\u001b[40m17:17:32.003 [\u001b[m\u001b[37m\u001b[40m\u001b[m\u001b[32m\u001b[40mInit\u001b[m\u001b[32m\u001b[40m\u001b[m\u001b[37m\u001b[40m] \u001b[m\u001b[37m\u001b[40m\u001b[m\u001b[37m\u001b[40mLoading backends from file...\n",
            "\u001b[m\u001b[37m\u001b[40m\u001b[m\u001b[37m\u001b[40m\u001b[m\u001b[37m\u001b[40m\u001b[m\u001b[37m\u001b[40m17:17:32.009 [\u001b[m\u001b[37m\u001b[40m\u001b[m\u001b[32m\u001b[40mInit\u001b[m\u001b[32m\u001b[40m\u001b[m\u001b[37m\u001b[40m] \u001b[m\u001b[37m\u001b[40m\u001b[m\u001b[37m\u001b[40mPrepping API...\n",
            "\u001b[m\u001b[37m\u001b[40m\u001b[m\u001b[37m\u001b[40m\u001b[m\u001b[37m\u001b[40m\u001b[m\u001b[37m\u001b[40m17:17:32.024 [\u001b[m\u001b[37m\u001b[40m\u001b[m\u001b[32m\u001b[40mInit\u001b[m\u001b[32m\u001b[40m\u001b[m\u001b[37m\u001b[40m] \u001b[m\u001b[37m\u001b[40m\u001b[m\u001b[37m\u001b[40mPrepping webserver...\n",
            "\u001b[m\u001b[37m\u001b[40m\u001b[m\u001b[37m\u001b[40m\u001b[?1h\u001b=\u001b[m\u001b[37m\u001b[40m\u001b[m\u001b[37m\u001b[40m17:17:32.040 [\u001b[m\u001b[37m\u001b[40m\u001b[m\u001b[32m\u001b[40mInit\u001b[m\u001b[32m\u001b[40m\u001b[m\u001b[37m\u001b[40m] \u001b[m\u001b[37m\u001b[40m\u001b[m\u001b[37m\u001b[40mBackend request handler loop ready...\n",
            "\u001b[m\u001b[37m\u001b[40m\u001b[m\u001b[37m\u001b[40m\u001b[?1h\u001b=\u001b[m\u001b[37m\u001b[40m\u001b[m\u001b[37m\u001b[40m17:17:32.122 [\u001b[m\u001b[37m\u001b[40m\u001b[m\u001b[32m\u001b[40mInit\u001b[m\u001b[32m\u001b[40m\u001b[m\u001b[37m\u001b[40m] \u001b[m\u001b[37m\u001b[40m\u001b[m\u001b[37m\u001b[40mCurrent git commit is [aef918df: properly split cached vs uncached browser updates], marked as date 2025-10-30 12:22:06 (4 hours ago)\n",
            "\u001b[m\u001b[37m\u001b[40m\u001b[m\u001b[37m\u001b[40m\u001b[?1h\u001b=\u001b[m\u001b[37m\u001b[40m\u001b[m\u001b[37m\u001b[40m17:17:32.180 [\u001b[m\u001b[37m\u001b[40m\u001b[m\u001b[32m\u001b[40mInit\u001b[m\u001b[32m\u001b[40m\u001b[m\u001b[37m\u001b[40m] \u001b[m\u001b[37m\u001b[40m\u001b[m\u001b[37m\u001b[40mSwarm is up to date! You have version 0.9.7.1, and 0.9.7-Beta is the latest.\n",
            "\u001b[m\u001b[37m\u001b[40m\u001b[m\u001b[37m\u001b[40m\u001b[m\u001b[37m\u001b[40m\u001b[m\u001b[37m\u001b[40m17:17:32.386 [\u001b[m\u001b[37m\u001b[40m\u001b[m\u001b[32m\u001b[40mInit\u001b[m\u001b[32m\u001b[40m\u001b[m\u001b[37m\u001b[40m] \u001b[m\u001b[37m\u001b[40m\u001b[m\u001b[37m\u001b[40mScan for web extensions...\n",
            "\u001b[m\u001b[37m\u001b[40m\u001b[m\u001b[37m\u001b[40m\u001b[m\u001b[37m\u001b[40m\u001b[m\u001b[37m\u001b[40m17:17:32.397 [\u001b[m\u001b[37m\u001b[40m\u001b[m\u001b[32m\u001b[40mInit\u001b[m\u001b[32m\u001b[40m\u001b[m\u001b[37m\u001b[40m] \u001b[m\u001b[37m\u001b[40m\u001b[m\u001b[37m\u001b[40mReadying extensions for launch...\n",
            "\u001b[m\u001b[37m\u001b[40m\u001b[m\u001b[37m\u001b[40m\u001b[m\u001b[37m\u001b[40m\u001b[m\u001b[37m\u001b[40m17:17:32.398 [\u001b[m\u001b[37m\u001b[40m\u001b[m\u001b[32m\u001b[40mInit\u001b[m\u001b[32m\u001b[40m\u001b[m\u001b[37m\u001b[40m] \u001b[m\u001b[37m\u001b[40m\u001b[m\u001b[37m\u001b[40mLaunching server...\n",
            "\u001b[m\u001b[37m\u001b[40m\u001b[m\u001b[37m\u001b[40m\u001b[m\u001b[37m\u001b[40m\u001b[m\u001b[37m\u001b[40m17:17:32.400 [\u001b[m\u001b[37m\u001b[40m\u001b[m\u001b[32m\u001b[40mInit\u001b[m\u001b[32m\u001b[40m\u001b[m\u001b[37m\u001b[40m] \u001b[m\u001b[37m\u001b[40m\u001b[m\u001b[37m\u001b[40mStarting webserver on http://localhost:7801\n",
            "\u001b[m\u001b[37m\u001b[40m\u001b[m\u001b[37m\u001b[40m\u001b[40m\u001b[1m\u001b[33mwarn\u001b[39m\u001b[22m\u001b[49m: Microsoft.AspNetCore.DataProtection.KeyManagement.XmlKeyManager[35]\n",
            "      No XML encryptor configured. Key {9a2e0d98-1782-4c1e-96b8-c2f78a0f4395} may be persisted to storage in unencrypted form.\n",
            "\u001b[m\u001b[37m\u001b[40m\u001b[m\u001b[37m\u001b[40m17:17:32.503 [\u001b[m\u001b[37m\u001b[40m\u001b[m\u001b[32m\u001b[40mInit\u001b[m\u001b[32m\u001b[40m\u001b[m\u001b[37m\u001b[40m] \u001b[m\u001b[37m\u001b[40m\u001b[m\u001b[37m\u001b[40mSwarmUI v0.9.7.1 - Local is now running.\n",
            "\u001b[m\u001b[37m\u001b[40m\u001b[m\u001b[37m\u001b[40m\u001b[m\u001b[37m\u001b[40m\u001b[m\u001b[37m\u001b[40m17:17:36.418 [\u001b[m\u001b[37m\u001b[40m\u001b[m\u001b[36m\u001b[40mInfo\u001b[m\u001b[36m\u001b[40m\u001b[m\u001b[37m\u001b[40m] \u001b[m\u001b[37m\u001b[40m\u001b[m\u001b[37m\u001b[40mCloudflare ready! Generated URL: https://network-newport-sponsorship-marketing.trycloudflare.com\n",
            "\u001b[m\u001b[37m\u001b[40m\u001b[m\u001b[37m\u001b[40m"
          ]
        }
      ],
      "source": [
        "# Alright, launch it! Watch the output for a Cloudflare URL\n",
        "%cd $SWARMPATH/SwarmUI/\n",
        "\n",
        "# (Colab stupid-proofing: aggressive git ultraforce pull)\n",
        "!git fetch\n",
        "!git reset --hard origin/master\n",
        "!git pull --autostash\n",
        "# (Colab stupid-proofing: drive wonks the perms so this needs an aggressive rebuild)\n",
        "!rm -rf ./src/bin/live_release\n",
        "\n",
        "!bash ./launch-linux.sh --launch_mode none --cloudflared-path cloudflared"
      ]
    }
  ],
  "metadata": {
    "accelerator": "GPU",
    "colab": {
      "gpuType": "T4",
      "provenance": []
    },
    "kernelspec": {
      "display_name": "Python 3",
      "name": "python3"
    },
    "language_info": {
      "name": "python"
    }
  },
  "nbformat": 4,
  "nbformat_minor": 0
}